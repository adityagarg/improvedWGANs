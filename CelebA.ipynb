{
 "cells": [
  {
   "cell_type": "code",
   "execution_count": null,
   "metadata": {},
   "outputs": [],
   "source": [
    "# Import modules\n",
    "from __future__ import print_function\n",
    "import tensorflow as tf\n",
    "import numpy as np\n",
    "import time\n",
    "import matplotlib.pyplot as plt\n",
    "from ecbm4040.cifar_utils import load_data\n",
    "\n",
    "# Plot configurations\n",
    "% matplotlib inline\n",
    "\n",
    "# Notebook auto reloads code. (Ref: http://stackoverflow.com/questions/1907993/autoreload-of-modules-in-ipython)\n",
    "% load_ext autoreload\n",
    "% autoreload 2"
   ]
  },
  {
   "cell_type": "code",
   "execution_count": null,
   "metadata": {},
   "outputs": [],
   "source": [
    "import numpy as np\n",
    "import os, sys, inspect\n",
    "import random\n",
    "from six.moves import cPickle as pickle\n",
    "from tensorflow.python.platform import gfile\n",
    "import glob\n",
    "\n",
    "utils_path = os.path.abspath(\n",
    "    os.path.realpath(os.path.join(os.path.split(inspect.getfile(inspect.currentframe()))[0], \"..\")))\n",
    "if utils_path not in sys.path:\n",
    "    sys.path.insert(0, utils_path)\n",
    "import utils as utils\n",
    "\n",
    "DATA_URL = 'https://www.dropbox.com/sh/8oqt9vytwxb3s4r/AADIKlz8PR9zr6Y20qbkunrba/Img/img_align_celeba.zip'\n",
    "random.seed(5)\n",
    "\n",
    "class CelebA_Dataset():\n",
    "    def __init__(self, dict):\n",
    "        self.train_images = dict['train']\n",
    "        self.test_images = dict['test']\n",
    "        self.validation_images = dict['validation']\n",
    "\n",
    "\n",
    "def read_dataset(data_dir):\n",
    "    pickle_filename = \"celebA.pickle\"\n",
    "    pickle_filepath = os.path.join(data_dir, pickle_filename)\n",
    "    if not os.path.exists(pickle_filepath):\n",
    "        # utils.maybe_download_and_extract(data_dir, DATA_URL, is_zipfile=True)\n",
    "        celebA_folder = os.path.splitext(DATA_URL.split(\"/\")[-1])[0]\n",
    "        dir_path = os.path.join(data_dir, celebA_folder)\n",
    "        if not os.path.exists(dir_path):\n",
    "            print (\"CelebA dataset needs to be downloaded and unzipped manually\")\n",
    "            print (\"Download from: %s\" % DATA_URL)\n",
    "            raise ValueError(\"Dataset not found\")\n",
    "\n",
    "        result = create_image_lists(dir_path)\n",
    "        print (\"Training set: %d\" % len(result['train']))\n",
    "        print (\"Test set: %d\" % len(result['test']))\n",
    "        print (\"Validation set: %d\" % len(result['validation']))\n",
    "        print (\"Pickling ...\")\n",
    "        with open(pickle_filepath, 'wb') as f:\n",
    "            pickle.dump(result, f, pickle.HIGHEST_PROTOCOL)\n",
    "    else:\n",
    "        print (\"Found pickle file!\")\n",
    "\n",
    "    with open(pickle_filepath, 'rb') as f:\n",
    "        result = pickle.load(f)\n",
    "        celebA = CelebA_Dataset(result)\n",
    "        del result\n",
    "    return celebA"
   ]
  },
  {
   "cell_type": "code",
   "execution_count": null,
   "metadata": {},
   "outputs": [],
   "source": []
  },
  {
   "cell_type": "code",
   "execution_count": null,
   "metadata": {},
   "outputs": [],
   "source": []
  },
  {
   "cell_type": "code",
   "execution_count": null,
   "metadata": {},
   "outputs": [],
   "source": []
  }
 ],
 "metadata": {
  "kernelspec": {
   "display_name": "Python 3",
   "language": "python",
   "name": "python3"
  },
  "language_info": {
   "codemirror_mode": {
    "name": "ipython",
    "version": 3
   },
   "file_extension": ".py",
   "mimetype": "text/x-python",
   "name": "python",
   "nbconvert_exporter": "python",
   "pygments_lexer": "ipython3",
   "version": "3.6.2"
  }
 },
 "nbformat": 4,
 "nbformat_minor": 2
}
