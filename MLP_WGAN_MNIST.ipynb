{
 "cells": [
  {
   "cell_type": "code",
   "execution_count": 17,
   "metadata": {
    "collapsed": true
   },
   "outputs": [],
   "source": [
    "import tensorflow as tf\n",
    "import tensorflow.contrib as tc\n",
    "import tensorflow.contrib.layers as tcl\n",
    "from tensorflow.examples.tutorials.mnist import input_data\n",
    "import numpy as np\n",
    "import random\n",
    "import matplotlib.pyplot as plt\n",
    "import matplotlib.image as mpimg\n",
    "%matplotlib inline\n",
    "import matplotlib.gridspec as gridspec\n",
    "import os"
   ]
  },
  {
   "cell_type": "code",
   "execution_count": 18,
   "metadata": {},
   "outputs": [],
   "source": [
    "def leaky_relu(x, th=0.2):\n",
    "    return tf.maximum(tf.minimum(0.0, th * x), x)    \n",
    "    \n",
    "def batch_sampler(x):    \n",
    "    shuff_idx = np.arange(x.shape[0])\n",
    "    np.random.shuffle(shuff_idx)\n",
    "    return x[shuff_idx]\n",
    "                \n",
    "class MLP_WGAN(object):\n",
    "    def __init__(self, train_data, mb_size, train_epoch, x_dim, z_dim, n_fig, out_dir, color, penalty=10, n_disc=5):\n",
    "        self.train_data = train_data\n",
    "        self.mb_size = mb_size            ## size of the mini-batch\n",
    "        self.train_epoch = train_epoch    ## number of training epochs\n",
    "        self.x_dim = x_dim                ## the dimensionality of the input images\n",
    "        self.z_dim = z_dim                ## size of the initial noise passed through the generator\n",
    "        self.n_fig = n_fig                ## number of figures for each plot\n",
    "        self.out_dir = out_dir            ## storing sampled images\n",
    "        self.penalty = penalty            ## gradient penalty\n",
    "        self.n_disc = n_disc              ## number of disciminator steps per generator step\n",
    "        self.color = color                ## if the images are RGB or grey-scale\n",
    "  \n",
    "    def plot(self, samples):\n",
    "        size = int(np.sqrt(self.n_fig))\n",
    "        fig = plt.figure(figsize=(4, 4))\n",
    "        gs = gridspec.GridSpec(4, 4)\n",
    "        gs.update(wspace=0.05, hspace=0.05)\n",
    "\n",
    "        for i, sample in enumerate(samples):\n",
    "            ax = plt.subplot(gs[i])\n",
    "            plt.axis('off')\n",
    "            ax.set_xticklabels([])\n",
    "            ax.set_yticklabels([])\n",
    "            ax.set_aspect('equal')\n",
    "            if samples.shape[3] == 3:\n",
    "                sample = sample.reshape(self.x_dim, self.x_dim, self.color)\n",
    "                plt.imshow(sample)\n",
    "            else:\n",
    "                sample = sample.reshape(self.x_dim, self.x_dim)\n",
    "                plt.imshow(sample, cmap='Greys_r')\n",
    "             \n",
    "        return fig\n",
    "\n",
    "    def generator(self, x, isTrain=True):\n",
    "        with tf.variable_scope('generator'):\n",
    "\n",
    "            fc = x\n",
    "            fc = tcl.fully_connected(\n",
    "                fc, 512*self.color,\n",
    "                weights_initializer=tf.random_normal_initializer(stddev=0.02),\n",
    "                weights_regularizer=tc.layers.l2_regularizer(2.5e-5),\n",
    "                activation_fn=tcl.batch_norm\n",
    "            )\n",
    "            fc = leaky_relu(fc)\n",
    "            fc = tcl.fully_connected(\n",
    "                fc, 512*self.color,\n",
    "                weights_initializer=tf.random_normal_initializer(stddev=0.02),\n",
    "                weights_regularizer=tc.layers.l2_regularizer(2.5e-5),\n",
    "                activation_fn=tcl.batch_norm\n",
    "            )\n",
    "            fc = leaky_relu(fc)\n",
    "            fc = tcl.fully_connected(\n",
    "                fc, 512*self.color,\n",
    "                weights_initializer=tf.random_normal_initializer(stddev=0.02),\n",
    "                weights_regularizer=tc.layers.l2_regularizer(2.5e-5),\n",
    "                activation_fn=tcl.batch_norm\n",
    "            )\n",
    "            fc = leaky_relu(fc)\n",
    "            fc = tc.layers.fully_connected(\n",
    "                fc, self.x_dim*self.x_dim*self.color,\n",
    "                weights_initializer=tf.random_normal_initializer(stddev=0.02),\n",
    "                weights_regularizer=tc.layers.l2_regularizer(2.5e-5),\n",
    "                activation_fn=tf.sigmoid\n",
    "            )\n",
    "\n",
    "            fc = tf.reshape(fc, [tf.shape(x)[0], self.x_dim, self.x_dim, self.color])\n",
    "            return fc\n",
    "\n",
    "    def discriminator(self, x, isTrain=True, reuse=True):\n",
    "        with tf.variable_scope('discriminator', reuse=reuse):\n",
    "            \n",
    "            conv1 = tc.layers.convolution2d(\n",
    "                x, 64, [4, 4], [2, 2],\n",
    "                weights_initializer=tf.random_normal_initializer(stddev=0.02),\n",
    "                activation_fn=tf.identity\n",
    "            )\n",
    "            conv1 = leaky_relu(conv1)\n",
    "            conv2 = tc.layers.convolution2d(\n",
    "                conv1, 128, [4, 4], [2, 2],\n",
    "                weights_initializer=tf.random_normal_initializer(stddev=0.02),\n",
    "                activation_fn=tf.identity\n",
    "            )\n",
    "            conv2 = leaky_relu(tc.layers.batch_norm(conv2))\n",
    "            conv2 = tcl.flatten(conv2)\n",
    "            fc1 = tc.layers.fully_connected(\n",
    "                conv2, 1024,\n",
    "                weights_initializer=tf.random_normal_initializer(stddev=0.02),\n",
    "                activation_fn=tf.identity\n",
    "            )\n",
    "            fc1 = leaky_relu(tc.layers.batch_norm(fc1))\n",
    "            fc2 = tc.layers.fully_connected(fc1, 1, activation_fn=tf.identity)\n",
    "            return fc2\n",
    "        \n",
    "        \n",
    "    def training(self):\n",
    "        tf.reset_default_graph()\n",
    "\n",
    "        with tf.name_scope('inputs'):\n",
    "            X = tf.placeholder(tf.float32, shape=(None, self.x_dim, self.x_dim, self.color)) ## dataset\n",
    "            z = tf.placeholder(tf.float32, shape=(None, self.z_dim)) ## noise passed to generator\n",
    "\n",
    "        G_sample = self.generator(z)\n",
    "        print(G_sample.shape)\n",
    "        D_real = self.discriminator(X, reuse=False)\n",
    "        D_fake = self.discriminator(G_sample)\n",
    "\n",
    "        D_loss = tf.reduce_mean(D_real) - tf.reduce_mean(D_fake)\n",
    "        G_loss = tf.reduce_mean(D_fake)\n",
    "        \n",
    "        alpha = tf.random_uniform([], minval=0.,maxval=1.)\n",
    "        x_hat = X*alpha + (1-alpha)*G_sample\n",
    "        gradients = tf.gradients(self.discriminator(x_hat), [x_hat])[0]\n",
    "        slopes = tf.sqrt(tf.reduce_sum(tf.square(gradients), axis=1))\n",
    "        gradient_penalty = self.penalty*tf.reduce_mean(tf.square(slopes - 1.0))\n",
    "        D_loss += gradient_penalty\n",
    "\n",
    "\n",
    "        T_vars = tf.trainable_variables()\n",
    "        D_vars = [var for var in T_vars if var.name.startswith('discriminator')]\n",
    "        G_vars = [var for var in T_vars if var.name.startswith('generator')]\n",
    "\n",
    "        G_solver = tf.train.AdamOptimizer(learning_rate=1e-4, beta1=0.5,\n",
    "                                          beta2=0.9).minimize(G_loss, var_list=G_vars)\n",
    "\n",
    "\n",
    "        D_solver = tf.train.AdamOptimizer(learning_rate=1e-4, beta1=0.5, \n",
    "                                          beta2=0.9).minimize(D_loss, var_list=D_vars)\n",
    "\n",
    "        if not os.path.exists(self.out_dir):\n",
    "            os.makedirs(self.out_dir)\n",
    "        \n",
    "        \n",
    "        sess = tf.InteractiveSession()\n",
    "        sess.run(tf.global_variables_initializer())\n",
    "        \n",
    "        i = 0\n",
    "        for epoch in range(0, self.train_epoch):\n",
    "                \n",
    "            for _ in range(0, self.n_disc):\n",
    "                    \n",
    "                batch_images = batch_sampler(self.train_data)[0:self.mb_size]\n",
    "                batch_z = np.random.normal(-1.0, 1.0, size=[self.mb_size, self.z_dim]).astype(np.float32)\n",
    "\n",
    "                _, D_loss_curr = sess.run([D_solver, D_loss],\n",
    "                    feed_dict={X: batch_images, z: batch_z})\n",
    "                    \n",
    "            batch_z = np.random.normal(-1.0, 1.0, size=[self.mb_size, self.z_dim]).astype(np.float32)    \n",
    "            _, G_loss_curr = sess.run([G_solver, G_loss], feed_dict={z: batch_z})\n",
    "\n",
    "            if epoch % 100 == 0:\n",
    "                print('Iter: {}; D loss: {:.4}; G_loss: {:.4}'.format(i, D_loss_curr, G_loss_curr))\n",
    "                batch_z  = np.random.normal(-1.0, 1.0, size=[self.n_fig, self.z_dim]).astype(np.float32)\n",
    "                samples = sess.run(G_sample, feed_dict={z: batch_z})\n",
    "                fig = self.plot(samples)\n",
    "                plt.savefig(out_dir + '/{}.png'\n",
    "                            .format(str(i).zfill(3)), bbox_inches='tight')\n",
    "                i += 1\n",
    "                plt.close(fig)\n",
    "                "
   ]
  },
  {
   "cell_type": "code",
   "execution_count": 19,
   "metadata": {
    "collapsed": true
   },
   "outputs": [],
   "source": [
    "mb_size = 64\n",
    "z_dim = 100\n",
    "n_fig= 16\n",
    "out_dir = 'out_MLP_GAN_new'\n",
    "n_disc = 5\n",
    "train_epoch = 1000000\n",
    "penalty = 10"
   ]
  },
  {
   "cell_type": "code",
   "execution_count": 20,
   "metadata": {},
   "outputs": [
    {
     "name": "stdout",
     "output_type": "stream",
     "text": [
      "Extracting MNIST_data/train-images-idx3-ubyte.gz\n",
      "Extracting MNIST_data/train-labels-idx1-ubyte.gz\n",
      "Extracting MNIST_data/t10k-images-idx3-ubyte.gz\n",
      "Extracting MNIST_data/t10k-labels-idx1-ubyte.gz\n",
      "(55000, 28, 28, 1)\n"
     ]
    }
   ],
   "source": [
    "# MNIST data: resize and normalization\n",
    "mnist = input_data.read_data_sets(\"MNIST_data/\", one_hot=True, reshape=[])\n",
    "train_set = mnist.train.images\n",
    "# train_set = tf.image.resize_images(mnist.train.images, [64, 64]).eval(session=sess)\n",
    "# train_set = (train_set - 0.5) / 0.5  # normalization; range: -1 ~ 1\n",
    "\n",
    "print(train_set.shape)\n",
    "x_dim = train_set.shape[1]\n",
    "color = train_set.shape[3]"
   ]
  },
  {
   "cell_type": "code",
   "execution_count": 21,
   "metadata": {},
   "outputs": [],
   "source": [
    "mnist_train = MLP_WGAN(train_set, mb_size, train_epoch, x_dim, z_dim, n_fig, out_dir, color, penalty, n_disc)"
   ]
  },
  {
   "cell_type": "code",
   "execution_count": null,
   "metadata": {},
   "outputs": [
    {
     "name": "stdout",
     "output_type": "stream",
     "text": [
      "(?, 28, 28, 1)\n",
      "Iter: 0; D loss: 4.64; G_loss: -0.2113\n"
     ]
    }
   ],
   "source": [
    "mnist_train.training()"
   ]
  },
  {
   "cell_type": "code",
   "execution_count": 54,
   "metadata": {},
   "outputs": [
    {
     "data": {
      "text/plain": [
       "<matplotlib.image.AxesImage at 0x7fdfb6fb9b70>"
      ]
     },
     "execution_count": 54,
     "metadata": {},
     "output_type": "execute_result"
    },
    {
     "data": {
      "image/png": "[encoded data removed]",
      "text/plain": [
       "<matplotlib.figure.Figure at 0x7fdfb6fe8e10>"
      ]
     },
     "metadata": {},
     "output_type": "display_data"
    }
   ],
   "source": [
    "img=mpimg.imread('out_improved_DCGAN/004.png')\n",
    "plt.imshow(img)"
   ]
  },
  {
   "cell_type": "code",
   "execution_count": null,
   "metadata": {
    "collapsed": true
   },
   "outputs": [],
   "source": []
  }
 ],
 "metadata": {
  "kernelspec": {
   "display_name": "Python 3",
   "language": "python",
   "name": "python3"
  },
  "language_info": {
   "codemirror_mode": {
    "name": "ipython",
    "version": 3
   },
   "file_extension": ".py",
   "mimetype": "text/x-python",
   "name": "python",
   "nbconvert_exporter": "python",
   "pygments_lexer": "ipython3",
   "version": "3.5.4"
  }
 },
 "nbformat": 4,
 "nbformat_minor": 2
}
