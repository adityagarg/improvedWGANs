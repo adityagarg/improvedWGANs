{
 "cells": [
  {
   "cell_type": "code",
   "execution_count": 1,
   "metadata": {},
   "outputs": [],
   "source": [
    "import tensorflow as tf\n",
    "from tensorflow.examples.tutorials.mnist import input_data\n",
    "import numpy as np\n",
    "import scipy\n",
    "import random\n",
    "import matplotlib.pyplot as plt\n",
    "import matplotlib.image as mpimg\n",
    "%matplotlib inline\n",
    "import matplotlib.gridspec as gridspec\n",
    "import os"
   ]
  },
  {
   "cell_type": "code",
   "execution_count": 2,
   "metadata": {},
   "outputs": [
    {
     "name": "stdout",
     "output_type": "stream",
     "text": [
      "(20, 64, 64, 3)\n"
     ]
    },
    {
     "name": "stderr",
     "output_type": "stream",
     "text": [
      "/usr/local/lib/python3.4/dist-packages/ipykernel_launcher.py:15: DeprecationWarning: `imresize` is deprecated!\n",
      "`imresize` is deprecated in SciPy 1.0.0, and will be removed in 1.2.0.\n",
      "Use ``skimage.transform.resize`` instead.\n",
      "  from ipykernel import kernelapp as app\n"
     ]
    },
    {
     "data": {
      "image/png": "[encoded data removed]",
      "text/plain": [
       "<matplotlib.figure.Figure at 0x7f3ac7d63710>"
      ]
     },
     "metadata": {},
     "output_type": "display_data"
    }
   ],
   "source": [
    "from PIL import Image\n",
    "import glob\n",
    "import scipy\n",
    "\n",
    "imlist = np.array([])\n",
    "for filename in glob.glob('shoes20/*.jpg'): #assuming gif\n",
    "    im=mpimg.imread(filename)\n",
    "    imlist = np.append(imlist, im)\n",
    "    \n",
    "imlist_reshaped = imlist.reshape(20, 256, 512, 3)\n",
    "\n",
    "imlist2=[]\n",
    "for im in imlist_reshaped:\n",
    "    im2 = im[0+8:260,250+8:510]\n",
    "    im3 = scipy.misc.imresize(im2, (64,64))\n",
    "    imlist2.append(im3)\n",
    "imlist2=np.array(imlist2)\n",
    "\n",
    "print(imlist2.shape)\n",
    "plt.imshow(imlist2[1])\n",
    "plt.show()"
   ]
  },
  {
   "cell_type": "code",
   "execution_count": 3,
   "metadata": {},
   "outputs": [],
   "source": [
    "from DCGAN import *"
   ]
  },
  {
   "cell_type": "code",
   "execution_count": 5,
   "metadata": {},
   "outputs": [
    {
     "data": {
      "text/plain": [
       "(49, 32, 32, 3)"
      ]
     },
     "execution_count": 5,
     "metadata": {},
     "output_type": "execute_result"
    }
   ],
   "source": [
    "train_set=np.load('overKneeshoes_32.npy')\n",
    "train_set.shape"
   ]
  },
  {
   "cell_type": "code",
   "execution_count": 6,
   "metadata": {},
   "outputs": [],
   "source": [
    "mb_size = 16\n",
    "z_dim = 100\n",
    "n_fig= 16\n",
    "out_dir = 'out_DCGAN_new'\n",
    "n_disc = 10\n",
    "train_epoch = 10000\n",
    "penalty = 10\n",
    "color=3\n",
    "x_dim=train_set.shape[1]"
   ]
  },
  {
   "cell_type": "code",
   "execution_count": 7,
   "metadata": {
    "scrolled": false
   },
   "outputs": [
    {
     "name": "stdout",
     "output_type": "stream",
     "text": [
      "(?, 32, 32, 3)\n",
      "Iter: 0; D loss: -123.2; G_loss: 61.86\n",
      "Iter: 1; D loss: -4.621e+03; G_loss: 2.326e+03\n",
      "Iter: 2; D loss: -1.036e+04; G_loss: 5.205e+03\n",
      "Iter: 3; D loss: -624.1; G_loss: 7.525e+03\n",
      "Iter: 4; D loss: -2.339e+04; G_loss: 1.175e+04\n",
      "Iter: 5; D loss: -3.078e+04; G_loss: 1.545e+04\n",
      "Iter: 6; D loss: -3.907e+04; G_loss: 1.962e+04\n",
      "Iter: 7; D loss: -4.928e+04; G_loss: 2.461e+04\n",
      "Iter: 8; D loss: -6.083e+04; G_loss: 3.058e+04\n",
      "Iter: 9; D loss: -7.294e+04; G_loss: 3.66e+04\n",
      "Iter: 10; D loss: -8.676e+04; G_loss: 4.35e+04\n",
      "Iter: 11; D loss: -1.02e+05; G_loss: 5.114e+04\n",
      "Iter: 12; D loss: -1.167e+05; G_loss: 5.853e+04\n",
      "Iter: 13; D loss: -1.313e+05; G_loss: 6.587e+04\n",
      "Iter: 14; D loss: -1.484e+05; G_loss: 7.442e+04\n",
      "Iter: 15; D loss: -1.683e+05; G_loss: 8.443e+04\n",
      "Iter: 16; D loss: -1.889e+05; G_loss: 9.478e+04\n",
      "Iter: 17; D loss: -2.123e+05; G_loss: 1.065e+05\n",
      "Iter: 18; D loss: -2.346e+05; G_loss: 1.177e+05\n",
      "Iter: 19; D loss: -2.586e+05; G_loss: 1.297e+05\n",
      "Iter: 20; D loss: -2.85e+05; G_loss: 1.429e+05\n",
      "Iter: 21; D loss: -3.104e+05; G_loss: 1.555e+05\n",
      "Iter: 22; D loss: -3.355e+05; G_loss: 1.682e+05\n",
      "Iter: 23; D loss: -3.638e+05; G_loss: 1.824e+05\n",
      "Iter: 24; D loss: -3.951e+05; G_loss: 1.98e+05\n",
      "Iter: 25; D loss: -4.179e+05; G_loss: 2.095e+05\n",
      "Iter: 26; D loss: -4.485e+05; G_loss: 2.249e+05\n",
      "Iter: 27; D loss: -4.816e+05; G_loss: 2.415e+05\n",
      "Iter: 28; D loss: -5.086e+05; G_loss: 2.545e+05\n",
      "Iter: 29; D loss: -5.475e+05; G_loss: 2.745e+05\n",
      "Iter: 30; D loss: -5.863e+05; G_loss: 2.939e+05\n",
      "Iter: 31; D loss: -6.218e+05; G_loss: 3.117e+05\n",
      "Iter: 32; D loss: -6.625e+05; G_loss: 3.321e+05\n",
      "Iter: 33; D loss: -7.01e+05; G_loss: 3.514e+05\n",
      "Iter: 34; D loss: -7.414e+05; G_loss: 3.716e+05\n",
      "Iter: 35; D loss: -7.794e+05; G_loss: 3.907e+05\n",
      "Iter: 36; D loss: -8.069e+05; G_loss: 4.044e+05\n",
      "Iter: 37; D loss: -8.546e+05; G_loss: 4.285e+05\n",
      "Iter: 38; D loss: -9.028e+05; G_loss: 4.526e+05\n",
      "Iter: 39; D loss: -9.521e+05; G_loss: 4.773e+05\n",
      "Iter: 40; D loss: -9.954e+05; G_loss: 4.991e+05\n",
      "Iter: 41; D loss: -1.043e+06; G_loss: 5.231e+05\n",
      "Iter: 42; D loss: -1.09e+06; G_loss: 5.465e+05\n",
      "Iter: 43; D loss: -1.131e+06; G_loss: 5.667e+05\n",
      "Iter: 44; D loss: -1.172e+06; G_loss: 5.877e+05\n",
      "Iter: 45; D loss: -1.213e+06; G_loss: 6.08e+05\n",
      "Iter: 46; D loss: -1.258e+06; G_loss: 6.31e+05\n",
      "Iter: 47; D loss: -1.315e+06; G_loss: 6.595e+05\n",
      "Iter: 48; D loss: -1.368e+06; G_loss: 6.858e+05\n",
      "Iter: 49; D loss: -1.418e+06; G_loss: 7.11e+05\n",
      "Iter: 50; D loss: -1.472e+06; G_loss: 7.382e+05\n",
      "Iter: 51; D loss: -1.533e+06; G_loss: 7.685e+05\n",
      "Iter: 52; D loss: -1.588e+06; G_loss: 7.964e+05\n",
      "Iter: 53; D loss: -1.64e+06; G_loss: 8.225e+05\n",
      "Iter: 54; D loss: -1.703e+06; G_loss: 8.539e+05\n",
      "Iter: 55; D loss: -1.76e+06; G_loss: 8.826e+05\n",
      "Iter: 56; D loss: -1.814e+06; G_loss: 9.097e+05\n",
      "Iter: 57; D loss: -1.884e+06; G_loss: 9.445e+05\n",
      "Iter: 58; D loss: -1.944e+06; G_loss: 9.733e+05\n",
      "Iter: 59; D loss: -2.016e+06; G_loss: 1.011e+06\n",
      "Iter: 60; D loss: -2.085e+06; G_loss: 1.045e+06\n",
      "Iter: 61; D loss: -2.152e+06; G_loss: 1.079e+06\n",
      "Iter: 62; D loss: -2.217e+06; G_loss: 1.111e+06\n",
      "Iter: 63; D loss: -2.291e+06; G_loss: 1.149e+06\n",
      "Iter: 64; D loss: -2.354e+06; G_loss: 1.18e+06\n",
      "Iter: 65; D loss: -2.432e+06; G_loss: 1.219e+06\n",
      "Iter: 66; D loss: -2.512e+06; G_loss: 1.259e+06\n",
      "Iter: 67; D loss: -2.566e+06; G_loss: 1.286e+06\n",
      "Iter: 68; D loss: -2.646e+06; G_loss: 1.326e+06\n",
      "Iter: 69; D loss: -2.705e+06; G_loss: 1.356e+06\n",
      "Iter: 70; D loss: -2.79e+06; G_loss: 1.398e+06\n",
      "Iter: 71; D loss: -2.861e+06; G_loss: 1.434e+06\n",
      "Iter: 72; D loss: -2.943e+06; G_loss: 1.476e+06\n",
      "Iter: 73; D loss: -3.029e+06; G_loss: 1.519e+06\n",
      "Iter: 74; D loss: -3.114e+06; G_loss: 1.561e+06\n",
      "Iter: 75; D loss: -3.205e+06; G_loss: 1.607e+06\n",
      "Iter: 76; D loss: -3.283e+06; G_loss: 1.646e+06\n",
      "Iter: 77; D loss: -3.373e+06; G_loss: 1.691e+06\n",
      "Iter: 78; D loss: -3.456e+06; G_loss: 1.732e+06\n",
      "Iter: 79; D loss: -3.549e+06; G_loss: 1.779e+06\n",
      "Iter: 80; D loss: -3.609e+06; G_loss: 1.809e+06\n",
      "Iter: 81; D loss: -3.68e+06; G_loss: 1.845e+06\n",
      "Iter: 82; D loss: -3.724e+06; G_loss: 1.867e+06\n",
      "Iter: 83; D loss: -3.807e+06; G_loss: 1.909e+06\n",
      "Iter: 84; D loss: -3.882e+06; G_loss: 1.946e+06\n",
      "Iter: 85; D loss: -3.965e+06; G_loss: 1.988e+06\n",
      "Iter: 86; D loss: -4.044e+06; G_loss: 2.028e+06\n",
      "Iter: 87; D loss: -4.143e+06; G_loss: 2.077e+06\n",
      "Iter: 88; D loss: -4.231e+06; G_loss: 2.121e+06\n",
      "Iter: 89; D loss: -4.316e+06; G_loss: 2.162e+06\n",
      "Iter: 90; D loss: -4.416e+06; G_loss: 2.214e+06\n",
      "Iter: 91; D loss: -4.49e+06; G_loss: 2.25e+06\n",
      "Iter: 92; D loss: -4.56e+06; G_loss: 2.286e+06\n",
      "Iter: 93; D loss: -4.668e+06; G_loss: 2.34e+06\n",
      "Iter: 94; D loss: -4.757e+06; G_loss: 2.385e+06\n",
      "Iter: 95; D loss: -4.857e+06; G_loss: 2.435e+06\n",
      "Iter: 96; D loss: -4.967e+06; G_loss: 2.49e+06\n",
      "Iter: 97; D loss: -5.046e+06; G_loss: 2.526e+06\n",
      "Iter: 98; D loss: -5.157e+06; G_loss: 2.585e+06\n",
      "Iter: 99; D loss: -5.251e+06; G_loss: 2.632e+06\n"
     ]
    }
   ],
   "source": [
    "shoe_train = DC_WGAN(train_set, mb_size, train_epoch, x_dim, z_dim, n_fig, out_dir, color, penalty, n_disc)\n",
    "shoe_train.training()"
   ]
  },
  {
   "cell_type": "code",
   "execution_count": 8,
   "metadata": {},
   "outputs": [
    {
     "data": {
      "text/plain": [
       "(32, 32)"
      ]
     },
     "execution_count": 8,
     "metadata": {},
     "output_type": "execute_result"
    }
   ],
   "source": [
    "train_set[0, :, :, 0].shape"
   ]
  },
  {
   "cell_type": "code",
   "execution_count": 9,
   "metadata": {},
   "outputs": [
    {
     "name": "stdout",
     "output_type": "stream",
     "text": [
      "Extracting MNIST_data/train-images-idx3-ubyte.gz\n",
      "Extracting MNIST_data/train-labels-idx1-ubyte.gz\n",
      "Extracting MNIST_data/t10k-images-idx3-ubyte.gz\n",
      "Extracting MNIST_data/t10k-labels-idx1-ubyte.gz\n",
      "(55000, 28, 28, 1)\n"
     ]
    }
   ],
   "source": [
    "# MNIST data: resize and normalization\n",
    "mnist = input_data.read_data_sets(\"MNIST_data/\", one_hot=True, reshape=[])\n",
    "train_set = mnist.train.images\n",
    "# train_set = tf.image.resize_images(tra, [64, 64]).eval(session=sess)\n",
    "\n",
    "print(train_set.shape)\n",
    "x_dim = train_set.shape[1]\n",
    "color = train_set.shape[3]"
   ]
  },
  {
   "cell_type": "code",
   "execution_count": null,
   "metadata": {},
   "outputs": [],
   "source": []
  },
  {
   "cell_type": "code",
   "execution_count": 10,
   "metadata": {},
   "outputs": [
    {
     "ename": "FileNotFoundError",
     "evalue": "[Errno 2] No such file or directory: 'out_DCGAN/004.png'",
     "output_type": "error",
     "traceback": [
      "\u001b[0;31m---------------------------------------------------------------------------\u001b[0m",
      "\u001b[0;31mFileNotFoundError\u001b[0m                         Traceback (most recent call last)",
      "\u001b[0;32m<ipython-input-10-c40d6d924f0a>\u001b[0m in \u001b[0;36m<module>\u001b[0;34m()\u001b[0m\n\u001b[0;32m----> 1\u001b[0;31m \u001b[0mimg\u001b[0m\u001b[0;34m=\u001b[0m\u001b[0mmpimg\u001b[0m\u001b[0;34m.\u001b[0m\u001b[0mimread\u001b[0m\u001b[0;34m(\u001b[0m\u001b[0;34m'out_DCGAN/004.png'\u001b[0m\u001b[0;34m)\u001b[0m\u001b[0;34m\u001b[0m\u001b[0m\n\u001b[0m\u001b[1;32m      2\u001b[0m \u001b[0mplt\u001b[0m\u001b[0;34m.\u001b[0m\u001b[0mimshow\u001b[0m\u001b[0;34m(\u001b[0m\u001b[0mimg\u001b[0m\u001b[0;34m)\u001b[0m\u001b[0;34m\u001b[0m\u001b[0m\n",
      "\u001b[0;32m/usr/local/lib/python3.4/dist-packages/matplotlib/image.py\u001b[0m in \u001b[0;36mimread\u001b[0;34m(fname, format)\u001b[0m\n\u001b[1;32m   1297\u001b[0m             \u001b[0;32mreturn\u001b[0m \u001b[0mhandler\u001b[0m\u001b[0;34m(\u001b[0m\u001b[0mfd\u001b[0m\u001b[0;34m)\u001b[0m\u001b[0;34m\u001b[0m\u001b[0m\n\u001b[1;32m   1298\u001b[0m         \u001b[0;32melse\u001b[0m\u001b[0;34m:\u001b[0m\u001b[0;34m\u001b[0m\u001b[0m\n\u001b[0;32m-> 1299\u001b[0;31m             \u001b[0;32mwith\u001b[0m \u001b[0mopen\u001b[0m\u001b[0;34m(\u001b[0m\u001b[0mfname\u001b[0m\u001b[0;34m,\u001b[0m \u001b[0;34m'rb'\u001b[0m\u001b[0;34m)\u001b[0m \u001b[0;32mas\u001b[0m \u001b[0mfd\u001b[0m\u001b[0;34m:\u001b[0m\u001b[0;34m\u001b[0m\u001b[0m\n\u001b[0m\u001b[1;32m   1300\u001b[0m                 \u001b[0;32mreturn\u001b[0m \u001b[0mhandler\u001b[0m\u001b[0;34m(\u001b[0m\u001b[0mfd\u001b[0m\u001b[0;34m)\u001b[0m\u001b[0;34m\u001b[0m\u001b[0m\n\u001b[1;32m   1301\u001b[0m     \u001b[0;32melse\u001b[0m\u001b[0;34m:\u001b[0m\u001b[0;34m\u001b[0m\u001b[0m\n",
      "\u001b[0;31mFileNotFoundError\u001b[0m: [Errno 2] No such file or directory: 'out_DCGAN/004.png'"
     ]
    }
   ],
   "source": [
    "img=mpimg.imread('out_DCGAN/004.png')\n",
    "plt.imshow(img)"
   ]
  },
  {
   "cell_type": "code",
   "execution_count": null,
   "metadata": {},
   "outputs": [],
   "source": []
  }
 ],
 "metadata": {
  "kernelspec": {
   "display_name": "Python 3",
   "language": "python",
   "name": "python3"
  },
  "language_info": {
   "codemirror_mode": {
    "name": "ipython",
    "version": 3
   },
   "file_extension": ".py",
   "mimetype": "text/x-python",
   "name": "python",
   "nbconvert_exporter": "python",
   "pygments_lexer": "ipython3",
   "version": "3.4.3"
  }
 },
 "nbformat": 4,
 "nbformat_minor": 2
}
