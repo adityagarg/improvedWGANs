{
 "cells": [
  {
   "cell_type": "code",
   "execution_count": 1,
   "metadata": {
    "collapsed": true
   },
   "outputs": [],
   "source": [
    "import tensorflow as tf\n",
    "from tensorflow.examples.tutorials.mnist import input_data\n",
    "import numpy as np\n",
    "import matplotlib.pyplot as plt\n",
    "import matplotlib.gridspec as gridspec\n",
    "import os"
   ]
  },
  {
   "cell_type": "code",
   "execution_count": 2,
   "metadata": {},
   "outputs": [
    {
     "name": "stdout",
     "output_type": "stream",
     "text": [
      "Extracting MNIST_data/train-images-idx3-ubyte.gz\n",
      "Extracting MNIST_data/train-labels-idx1-ubyte.gz\n",
      "Extracting MNIST_data/t10k-images-idx3-ubyte.gz\n",
      "Extracting MNIST_data/t10k-labels-idx1-ubyte.gz\n"
     ]
    }
   ],
   "source": [
    "mnist = input_data.read_data_sets('MNIST_data', one_hot=True)\n",
    "\n",
    "mb_size = 32\n",
    "X_dim = 784\n",
    "z_dim = 20\n",
    "h_dim = 128"
   ]
  },
  {
   "cell_type": "code",
   "execution_count": 3,
   "metadata": {
    "collapsed": true
   },
   "outputs": [],
   "source": [
    "def plot(samples):\n",
    "    fig = plt.figure(figsize=(4, 4))\n",
    "    gs = gridspec.GridSpec(4, 4)\n",
    "    gs.update(wspace=0.05, hspace=0.05)\n",
    "\n",
    "    for i, sample in enumerate(samples):\n",
    "        ax = plt.subplot(gs[i])\n",
    "        plt.axis('off')\n",
    "        ax.set_xticklabels([])\n",
    "        ax.set_yticklabels([])\n",
    "        ax.set_aspect('equal')\n",
    "        plt.imshow(sample.reshape(28, 28), cmap='Greys_r')\n",
    "\n",
    "    return fig"
   ]
  },
  {
   "cell_type": "code",
   "execution_count": 4,
   "metadata": {
    "collapsed": true
   },
   "outputs": [],
   "source": [
    "def xavier_init(size):\n",
    "    in_dim = size[0]\n",
    "    xavier_stddev = 1. / tf.sqrt(in_dim / 2.)\n",
    "    return tf.random_normal(shape=size, stddev=xavier_stddev)"
   ]
  },
  {
   "cell_type": "code",
   "execution_count": 5,
   "metadata": {
    "collapsed": true
   },
   "outputs": [],
   "source": [
    "X = tf.placeholder(tf.float32, shape=[None, X_dim])\n",
    "\n",
    "D_W1 = tf.Variable(xavier_init([X_dim, h_dim]))\n",
    "D_b1 = tf.Variable(tf.zeros(shape=[h_dim]))\n",
    "\n",
    "D_W2 = tf.Variable(xavier_init([h_dim, 1]))\n",
    "D_b2 = tf.Variable(tf.zeros(shape=[1]))\n",
    "\n",
    "theta_D = [D_W1, D_W2, D_b1, D_b2]\n",
    "\n",
    "\n",
    "z = tf.placeholder(tf.float32, shape=[None, z_dim])\n",
    "\n",
    "G_W1 = tf.Variable(xavier_init([z_dim, h_dim]))\n",
    "G_b1 = tf.Variable(tf.zeros(shape=[h_dim]))\n",
    "\n",
    "G_W2 = tf.Variable(xavier_init([h_dim, X_dim]))\n",
    "G_b2 = tf.Variable(tf.zeros(shape=[X_dim]))\n",
    "\n",
    "theta_G = [G_W1, G_W2, G_b1, G_b2]"
   ]
  },
  {
   "cell_type": "markdown",
   "metadata": {},
   "source": [
    "## WGAN"
   ]
  },
  {
   "cell_type": "code",
   "execution_count": 6,
   "metadata": {
    "collapsed": true
   },
   "outputs": [],
   "source": [
    "def sample_z(m, n):\n",
    "    return np.random.uniform(-1., 1., size=[m, n])\n",
    "\n",
    "\n",
    "def generator(z):\n",
    "    G_h1 = tf.nn.relu(tf.matmul(z, G_W1) + G_b1)\n",
    "    G_log_prob = tf.matmul(G_h1, G_W2) + G_b2\n",
    "    G_prob = tf.nn.sigmoid(G_log_prob)\n",
    "\n",
    "    return G_prob\n",
    "\n",
    "\n",
    "def discriminator(x):\n",
    "    D_h1 = tf.nn.relu(tf.matmul(x, D_W1) + D_b1)\n",
    "    out = tf.matmul(D_h1, D_W2) + D_b2\n",
    "#     print(out)\n",
    "    return out"
   ]
  },
  {
   "cell_type": "code",
   "execution_count": 7,
   "metadata": {
    "collapsed": true
   },
   "outputs": [],
   "source": [
    "G_sample = generator(z)\n",
    "D_real = discriminator(X)\n",
    "D_fake = discriminator(G_sample)\n",
    "\n",
    "D_loss = tf.reduce_mean(D_real) - tf.reduce_mean(D_fake)\n",
    "G_loss = -tf.reduce_mean(D_fake)\n",
    "\n",
    "D_solver = (tf.train.RMSPropOptimizer(learning_rate=1e-4).minimize(-D_loss, var_list=theta_D))\n",
    "G_solver = (tf.train.RMSPropOptimizer(learning_rate=1e-4).minimize(G_loss, var_list=theta_G))\n",
    "\n",
    "clip_D = [p.assign(tf.clip_by_value(p, -0.01, 0.01)) for p in theta_D]"
   ]
  },
  {
   "cell_type": "code",
   "execution_count": 8,
   "metadata": {
    "scrolled": false
   },
   "outputs": [
    {
     "name": "stdout",
     "output_type": "stream",
     "text": [
      "Iter: 0; D loss: 0.003861; G_loss: 0.0119\n",
      "Iter: 100; D loss: 2.051; G_loss: 1.677\n",
      "Iter: 200; D loss: 1.829; G_loss: 1.462\n",
      "Iter: 300; D loss: 1.579; G_loss: 1.153\n",
      "Iter: 400; D loss: 1.302; G_loss: 0.944\n",
      "Iter: 500; D loss: 1.071; G_loss: 0.8801\n",
      "Iter: 600; D loss: 0.7138; G_loss: 0.7521\n",
      "Iter: 700; D loss: 0.4009; G_loss: 0.5607\n",
      "Iter: 800; D loss: 0.2301; G_loss: 0.3433\n",
      "Iter: 900; D loss: 0.1754; G_loss: 0.2245\n",
      "Iter: 1000; D loss: 0.08578; G_loss: 0.08004\n",
      "Iter: 1100; D loss: 0.04513; G_loss: -0.04706\n",
      "Iter: 1200; D loss: 0.02092; G_loss: -0.02609\n",
      "Iter: 1300; D loss: 0.006509; G_loss: -0.0206\n",
      "Iter: 1400; D loss: 0.008937; G_loss: -0.0007242\n",
      "Iter: 1500; D loss: 0.002964; G_loss: -0.04029\n",
      "Iter: 1600; D loss: 0.0009704; G_loss: -0.057\n",
      "Iter: 1700; D loss: 0.004772; G_loss: -0.05291\n",
      "Iter: 1800; D loss: -0.002051; G_loss: -0.04357\n",
      "Iter: 1900; D loss: 0.0007526; G_loss: -0.06915\n",
      "Iter: 2000; D loss: 0.006248; G_loss: 0.08808\n",
      "Iter: 2100; D loss: -0.001801; G_loss: 0.04746\n",
      "Iter: 2200; D loss: -0.003961; G_loss: 0.04473\n",
      "Iter: 2300; D loss: -0.01702; G_loss: -0.1\n",
      "Iter: 2400; D loss: 0.004562; G_loss: -0.04156\n",
      "Iter: 2500; D loss: 0.004576; G_loss: 0.06429\n",
      "Iter: 2600; D loss: -0.001964; G_loss: -0.1107\n",
      "Iter: 2700; D loss: 0.009556; G_loss: -0.04359\n",
      "Iter: 2800; D loss: 0.00343; G_loss: 0.04937\n",
      "Iter: 2900; D loss: 0.002336; G_loss: 0.03923\n",
      "Iter: 3000; D loss: 0.01559; G_loss: 0.1476\n",
      "Iter: 3100; D loss: 0.003537; G_loss: 0.0386\n",
      "Iter: 3200; D loss: 0.001367; G_loss: -0.05436\n",
      "Iter: 3300; D loss: 0.01298; G_loss: 0.006232\n",
      "Iter: 3400; D loss: 0.048; G_loss: -0.04078\n",
      "Iter: 3500; D loss: 0.04999; G_loss: 0.04399\n",
      "Iter: 3600; D loss: 0.04829; G_loss: -0.01155\n",
      "Iter: 3700; D loss: 0.04584; G_loss: -0.0111\n",
      "Iter: 3800; D loss: 0.05818; G_loss: 0.03464\n",
      "Iter: 3900; D loss: 0.05154; G_loss: 0.02963\n",
      "Iter: 4000; D loss: 0.04649; G_loss: 0.02264\n",
      "Iter: 4100; D loss: 0.04915; G_loss: 0.0007463\n",
      "Iter: 4200; D loss: 0.06394; G_loss: 0.00715\n",
      "Iter: 4300; D loss: 0.0656; G_loss: -0.01473\n",
      "Iter: 4400; D loss: 0.07346; G_loss: -0.01054\n",
      "Iter: 4500; D loss: 0.09637; G_loss: -0.02594\n",
      "Iter: 4600; D loss: 0.06194; G_loss: -0.0128\n",
      "Iter: 4700; D loss: 0.05314; G_loss: -0.0112\n",
      "Iter: 4800; D loss: 0.06737; G_loss: 0.0006316\n",
      "Iter: 4900; D loss: 0.06025; G_loss: -0.02541\n",
      "Iter: 5000; D loss: 0.06865; G_loss: -0.01266\n",
      "Iter: 5100; D loss: 0.07441; G_loss: -0.004562\n",
      "Iter: 5200; D loss: 0.06526; G_loss: -0.01709\n",
      "Iter: 5300; D loss: 0.05233; G_loss: -0.01815\n",
      "Iter: 5400; D loss: 0.05131; G_loss: -0.02202\n",
      "Iter: 5500; D loss: 0.04994; G_loss: -0.02421\n",
      "Iter: 5600; D loss: 0.0475; G_loss: -0.01799\n",
      "Iter: 5700; D loss: 0.057; G_loss: 0.004968\n",
      "Iter: 5800; D loss: 0.05578; G_loss: -0.02435\n",
      "Iter: 5900; D loss: 0.05501; G_loss: -0.01642\n",
      "Iter: 6000; D loss: 0.04856; G_loss: -0.002346\n",
      "Iter: 6100; D loss: 0.04916; G_loss: -0.004475\n",
      "Iter: 6200; D loss: 0.04584; G_loss: -0.01814\n",
      "Iter: 6300; D loss: 0.0533; G_loss: -0.01758\n",
      "Iter: 6400; D loss: 0.04879; G_loss: -0.01177\n",
      "Iter: 6500; D loss: 0.05294; G_loss: -0.01952\n",
      "Iter: 6600; D loss: 0.04068; G_loss: -0.02306\n",
      "Iter: 6700; D loss: 0.0413; G_loss: -0.02245\n",
      "Iter: 6800; D loss: 0.03656; G_loss: -0.0001596\n",
      "Iter: 6900; D loss: 0.04061; G_loss: -0.01881\n",
      "Iter: 7000; D loss: 0.04188; G_loss: -0.01128\n",
      "Iter: 7100; D loss: 0.04669; G_loss: 0.0001171\n",
      "Iter: 7200; D loss: 0.04239; G_loss: -0.02236\n",
      "Iter: 7300; D loss: 0.04215; G_loss: -0.01219\n",
      "Iter: 7400; D loss: 0.03926; G_loss: -0.006223\n",
      "Iter: 7500; D loss: 0.03829; G_loss: -0.02864\n",
      "Iter: 7600; D loss: 0.04636; G_loss: -0.003441\n",
      "Iter: 7700; D loss: 0.03291; G_loss: -0.0056\n",
      "Iter: 7800; D loss: 0.04257; G_loss: 0.0003249\n",
      "Iter: 7900; D loss: 0.04023; G_loss: 0.004657\n",
      "Iter: 8000; D loss: 0.03177; G_loss: -0.01053\n",
      "Iter: 8100; D loss: 0.03667; G_loss: -0.01816\n",
      "Iter: 8200; D loss: 0.03564; G_loss: -0.02575\n",
      "Iter: 8300; D loss: 0.03714; G_loss: -0.0327\n",
      "Iter: 8400; D loss: 0.03346; G_loss: -0.006701\n",
      "Iter: 8500; D loss: 0.0333; G_loss: -0.006583\n",
      "Iter: 8600; D loss: 0.02895; G_loss: -0.02423\n",
      "Iter: 8700; D loss: 0.03082; G_loss: -0.02432\n",
      "Iter: 8800; D loss: 0.0369; G_loss: -0.03427\n",
      "Iter: 8900; D loss: 0.03281; G_loss: -0.02262\n",
      "Iter: 9000; D loss: 0.03446; G_loss: -0.02643\n",
      "Iter: 9100; D loss: 0.0261; G_loss: -0.02717\n",
      "Iter: 9200; D loss: 0.03375; G_loss: -0.003628\n",
      "Iter: 9300; D loss: 0.03581; G_loss: -0.005374\n",
      "Iter: 9400; D loss: 0.03059; G_loss: -0.01623\n",
      "Iter: 9500; D loss: 0.0282; G_loss: -0.01734\n",
      "Iter: 9600; D loss: 0.03123; G_loss: -0.001035\n",
      "Iter: 9700; D loss: 0.03197; G_loss: -0.01505\n",
      "Iter: 9800; D loss: 0.02492; G_loss: -0.006442\n",
      "Iter: 9900; D loss: 0.02796; G_loss: -0.02198\n"
     ]
    }
   ],
   "source": [
    "sess = tf.Session()\n",
    "sess.run(tf.global_variables_initializer())\n",
    "\n",
    "if not os.path.exists('out/'):\n",
    "    os.makedirs('out/')\n",
    "\n",
    "i = 0\n",
    "\n",
    "iterations = np.array([])\n",
    "Dlist_loss = np.array([])\n",
    "Glist_loss = np.array([])\n",
    "\n",
    "for it in range(10000):\n",
    "    for _ in range(5):\n",
    "        X_mb, _ = mnist.train.next_batch(mb_size)\n",
    "\n",
    "        _, D_loss_curr, _ = sess.run([D_solver, D_loss, clip_D],\n",
    "                                     feed_dict={X: X_mb, z: sample_z(mb_size, z_dim)})\n",
    "    _, G_loss_curr = sess.run([G_solver, G_loss], feed_dict={z: sample_z(mb_size, z_dim)})\n",
    "\n",
    "    if it % 100 == 0:\n",
    "        iterations = np.append(iterations, it)\n",
    "        Dlist_loss = np.append(Dlist_loss, D_loss_curr)\n",
    "        Glist_loss = np.append(Glist_loss, G_loss_curr)\n",
    "        \n",
    "        print('Iter: {}; D loss: {:.4}; G_loss: {:.4}'\n",
    "              .format(it, D_loss_curr, G_loss_curr))\n",
    "\n",
    "        if it % 1000 == 0:\n",
    "            samples = sess.run(G_sample, feed_dict={z: sample_z(16, z_dim)})\n",
    "\n",
    "            fig = plot(samples)\n",
    "            plt.savefig('out/{}.png'\n",
    "                        .format(str(i).zfill(3)), bbox_inches='tight')\n",
    "            i += 1\n",
    "            plt.close(fig)"
   ]
  },
  {
   "cell_type": "code",
   "execution_count": 10,
   "metadata": {},
   "outputs": [
    {
     "data": {
      "image/png": "[encoded data removed]",
      "text/plain": [
       "<matplotlib.figure.Figure at 0x1a1e5f7ac8>"
      ]
     },
     "metadata": {},
     "output_type": "display_data"
    }
   ],
   "source": [
    "# summarize history for accuracy\n",
    "plt.figure(figsize=(9, 6))\n",
    "plt.plot(iterations, Dlist_loss)\n",
    "plt.plot(iterations, Glist_loss)\n",
    "plt.title('Training Curves')\n",
    "plt.ylabel('loss')\n",
    "plt.xlabel('epoch')\n",
    "plt.legend(['discriminator', 'generator'], loc='upper right')\n",
    "plt.show()"
   ]
  },
  {
   "cell_type": "markdown",
   "metadata": {},
   "source": [
    "## Improved WGAN"
   ]
  },
  {
   "cell_type": "markdown",
   "metadata": {},
   "source": [
    "https://github.com/znxlwm/tensorflow-MNIST-GAN-DCGAN/blob/master/tensorflow_MNIST_DCGAN.py"
   ]
  },
  {
   "cell_type": "code",
   "execution_count": 11,
   "metadata": {
    "collapsed": true
   },
   "outputs": [],
   "source": [
    "def lrelu(x, th=0.2):\n",
    "    return tf.maximum(th * x, x)"
   ]
  },
  {
   "cell_type": "code",
   "execution_count": 12,
   "metadata": {
    "collapsed": true
   },
   "outputs": [],
   "source": [
    "def plot(samples):\n",
    "    fig = plt.figure(figsize=(4, 4))\n",
    "    gs = gridspec.GridSpec(4, 4)\n",
    "    gs.update(wspace=0.05, hspace=0.05)\n",
    "\n",
    "    for i, sample in enumerate(samples):\n",
    "        ax = plt.subplot(gs[i])\n",
    "        plt.axis('off')\n",
    "        ax.set_xticklabels([])\n",
    "        ax.set_yticklabels([])\n",
    "        ax.set_aspect('equal')\n",
    "        plt.imshow(sample.reshape(64, 64), cmap='Greys_r')\n",
    "\n",
    "    return fig"
   ]
  },
  {
   "cell_type": "code",
   "execution_count": 13,
   "metadata": {
    "collapsed": true
   },
   "outputs": [],
   "source": [
    "def sample_z(m, n):\n",
    "#     return np.random.uniform(-1., 1., size=[m, n])\n",
    "     return np.random.normal(0, 1, (m, 1, 1, 100))\n",
    "\n",
    "\n",
    "def generator(x, isTrain=True, reuse=False):\n",
    "    with tf.variable_scope('generator', reuse=reuse):\n",
    "\n",
    "        # 1st hidden layer\n",
    "        conv1 = tf.layers.conv2d_transpose(x, 1024, [4, 4], strides=(1, 1), padding='valid')\n",
    "        lrelu1 = lrelu(tf.layers.batch_normalization(conv1, training=isTrain), 0.2)\n",
    "\n",
    "        # 2nd hidden layer\n",
    "        conv2 = tf.layers.conv2d_transpose(lrelu1, 512, [4, 4], strides=(2, 2), padding='same')\n",
    "        lrelu2 = lrelu(tf.layers.batch_normalization(conv2, training=isTrain), 0.2)\n",
    "\n",
    "        # 3rd hidden layer\n",
    "        conv3 = tf.layers.conv2d_transpose(lrelu2, 256, [4, 4], strides=(2, 2), padding='same')\n",
    "        lrelu3 = lrelu(tf.layers.batch_normalization(conv3, training=isTrain), 0.2)\n",
    "\n",
    "        # 4th hidden layer\n",
    "        conv4 = tf.layers.conv2d_transpose(lrelu3, 128, [4, 4], strides=(2, 2), padding='same')\n",
    "        lrelu4 = lrelu(tf.layers.batch_normalization(conv4, training=isTrain), 0.2)\n",
    "\n",
    "        # output layer\n",
    "        conv5 = tf.layers.conv2d_transpose(lrelu4, 1, [4, 4], strides=(2, 2), padding='same')\n",
    "        o = tf.nn.tanh(conv5)\n",
    "\n",
    "        return o\n",
    "\n",
    "# D(x)\n",
    "def discriminator(x, isTrain=True, reuse=False):\n",
    "    with tf.variable_scope('discriminator', reuse=reuse):\n",
    "        # 1st hidden layer\n",
    "        conv1 = tf.layers.conv2d(x, 128, [4, 4], strides=(2, 2), padding='same')\n",
    "        lrelu1 = lrelu(conv1, 0.2)\n",
    "\n",
    "        # 2nd hidden layer\n",
    "        conv2 = tf.layers.conv2d(lrelu1, 256, [4, 4], strides=(2, 2), padding='same')\n",
    "        lrelu2 = lrelu(tf.layers.batch_normalization(conv2, training=isTrain), 0.2)\n",
    "\n",
    "        # 3rd hidden layer\n",
    "        conv3 = tf.layers.conv2d(lrelu2, 512, [4, 4], strides=(2, 2), padding='same')\n",
    "        lrelu3 = lrelu(tf.layers.batch_normalization(conv3, training=isTrain), 0.2)\n",
    "\n",
    "        # 4th hidden layer\n",
    "        conv4 = tf.layers.conv2d(lrelu3, 1024, [4, 4], strides=(2, 2), padding='same')\n",
    "        lrelu4 = lrelu(tf.layers.batch_normalization(conv4, training=isTrain), 0.2)\n",
    "\n",
    "        # output layer\n",
    "        conv5 = tf.layers.conv2d(lrelu4, 1, [4, 4], strides=(1, 1), padding='valid')\n",
    "        o = tf.nn.sigmoid(conv5)\n",
    "\n",
    "        return o\n"
   ]
  },
  {
   "cell_type": "code",
   "execution_count": 14,
   "metadata": {},
   "outputs": [
    {
     "name": "stdout",
     "output_type": "stream",
     "text": [
      "(?, 1, 1, 1)\n"
     ]
    }
   ],
   "source": [
    "# elif MODE == 'wgan-gp':\n",
    "\n",
    "tf.reset_default_graph()\n",
    "X = tf.placeholder(tf.float32, shape=(None, 64, 64, 1))\n",
    "z = tf.placeholder(tf.float32, shape=(None, 1, 1, 100))\n",
    "\n",
    "G_sample = generator(z)\n",
    "D_real = discriminator(X)\n",
    "D_fake = discriminator(G_sample, reuse=True)\n",
    "\n",
    "LAMBDA = 10 #Gradient penalty lambda hyperparameter\n",
    "D_loss = tf.reduce_mean(D_real) - tf.reduce_mean(D_fake)\n",
    "G_loss = -tf.reduce_mean(D_fake)\n",
    "\n",
    "alpha = tf.random_uniform(\n",
    "    shape=[mb_size,64, 64, 1], \n",
    "    minval=0.,\n",
    "    maxval=1.)\n",
    "\n",
    "differences = D_fake - D_real\n",
    "print(differences.shape)\n",
    "interpolates = D_real + (alpha*differences)\n",
    "gradients = tf.gradients(discriminator(interpolates, reuse=True), [interpolates])[0]\n",
    "slopes = tf.sqrt(tf.reduce_sum(tf.square(gradients), reduction_indices=[1]))\n",
    "gradient_penalty = tf.reduce_mean((slopes-1.)**2)\n",
    "D_loss += LAMBDA*gradient_penalty\n",
    "\n",
    "\n",
    "T_vars = tf.trainable_variables()\n",
    "D_vars = [var for var in T_vars if var.name.startswith('discriminator')]\n",
    "G_vars = [var for var in T_vars if var.name.startswith('generator')]\n",
    "\n",
    "G_solver = tf.train.AdamOptimizer(\n",
    "    learning_rate=1e-4, \n",
    "    beta1=0.5,\n",
    "    beta2=0.9\n",
    ").minimize(G_loss, var_list=G_vars)\n",
    "\n",
    "# D_solver = (tf.train.RMSPropOptimizer(learning_rate=1e-4)\n",
    "#             .minimize(-D_loss, var_list=theta_D))\n",
    "\n",
    "D_solver = tf.train.AdamOptimizer(\n",
    "    learning_rate=1e-4, \n",
    "    beta1=0.5, \n",
    "    beta2=0.9\n",
    ").minimize(D_loss, var_list=D_vars)\n",
    "\n",
    "# clip_disc_weights = None"
   ]
  },
  {
   "cell_type": "code",
   "execution_count": 15,
   "metadata": {},
   "outputs": [
    {
     "name": "stdout",
     "output_type": "stream",
     "text": [
      "Extracting MNIST_data/train-images-idx3-ubyte.gz\n",
      "Extracting MNIST_data/train-labels-idx1-ubyte.gz\n",
      "Extracting MNIST_data/t10k-images-idx3-ubyte.gz\n",
      "Extracting MNIST_data/t10k-labels-idx1-ubyte.gz\n"
     ]
    }
   ],
   "source": [
    "mnist = input_data.read_data_sets(\"MNIST_data/\", one_hot=True, reshape=[])"
   ]
  },
  {
   "cell_type": "code",
   "execution_count": 18,
   "metadata": {},
   "outputs": [
    {
     "name": "stdout",
     "output_type": "stream",
     "text": [
      "Iter: 0; D loss: 8.556; G_loss: -0.6941\n"
     ]
    },
    {
     "ename": "KeyboardInterrupt",
     "evalue": "",
     "output_type": "error",
     "traceback": [
      "\u001b[0;31m---------------------------------------------------------------------------\u001b[0m",
      "\u001b[0;31mKeyboardInterrupt\u001b[0m                         Traceback (most recent call last)",
      "\u001b[0;32m<ipython-input-18-65419be5124e>\u001b[0m in \u001b[0;36m<module>\u001b[0;34m()\u001b[0m\n\u001b[1;32m     26\u001b[0m         _, D_loss_curr = sess.run(\n\u001b[1;32m     27\u001b[0m             \u001b[0;34m[\u001b[0m\u001b[0mD_solver\u001b[0m\u001b[0;34m,\u001b[0m \u001b[0mD_loss\u001b[0m\u001b[0;34m]\u001b[0m\u001b[0;34m,\u001b[0m\u001b[0;34m\u001b[0m\u001b[0m\n\u001b[0;32m---> 28\u001b[0;31m             \u001b[0mfeed_dict\u001b[0m\u001b[0;34m=\u001b[0m\u001b[0;34m{\u001b[0m\u001b[0mX\u001b[0m\u001b[0;34m:\u001b[0m \u001b[0mX_mb\u001b[0m\u001b[0;34m,\u001b[0m \u001b[0mz\u001b[0m\u001b[0;34m:\u001b[0m \u001b[0msample_z\u001b[0m\u001b[0;34m(\u001b[0m\u001b[0mmb_size\u001b[0m\u001b[0;34m,\u001b[0m \u001b[0mz_dim\u001b[0m\u001b[0;34m)\u001b[0m\u001b[0;34m}\u001b[0m\u001b[0;34m\u001b[0m\u001b[0m\n\u001b[0m\u001b[1;32m     29\u001b[0m         )\n\u001b[1;32m     30\u001b[0m \u001b[0;34m\u001b[0m\u001b[0m\n",
      "\u001b[0;32m/anaconda3/lib/python3.6/site-packages/tensorflow/python/client/session.py\u001b[0m in \u001b[0;36mrun\u001b[0;34m(self, fetches, feed_dict, options, run_metadata)\u001b[0m\n\u001b[1;32m    776\u001b[0m     \u001b[0;32mtry\u001b[0m\u001b[0;34m:\u001b[0m\u001b[0;34m\u001b[0m\u001b[0m\n\u001b[1;32m    777\u001b[0m       result = self._run(None, fetches, feed_dict, options_ptr,\n\u001b[0;32m--> 778\u001b[0;31m                          run_metadata_ptr)\n\u001b[0m\u001b[1;32m    779\u001b[0m       \u001b[0;32mif\u001b[0m \u001b[0mrun_metadata\u001b[0m\u001b[0;34m:\u001b[0m\u001b[0;34m\u001b[0m\u001b[0m\n\u001b[1;32m    780\u001b[0m         \u001b[0mproto_data\u001b[0m \u001b[0;34m=\u001b[0m \u001b[0mtf_session\u001b[0m\u001b[0;34m.\u001b[0m\u001b[0mTF_GetBuffer\u001b[0m\u001b[0;34m(\u001b[0m\u001b[0mrun_metadata_ptr\u001b[0m\u001b[0;34m)\u001b[0m\u001b[0;34m\u001b[0m\u001b[0m\n",
      "\u001b[0;32m/anaconda3/lib/python3.6/site-packages/tensorflow/python/client/session.py\u001b[0m in \u001b[0;36m_run\u001b[0;34m(self, handle, fetches, feed_dict, options, run_metadata)\u001b[0m\n\u001b[1;32m    980\u001b[0m     \u001b[0;32mif\u001b[0m \u001b[0mfinal_fetches\u001b[0m \u001b[0;32mor\u001b[0m \u001b[0mfinal_targets\u001b[0m\u001b[0;34m:\u001b[0m\u001b[0;34m\u001b[0m\u001b[0m\n\u001b[1;32m    981\u001b[0m       results = self._do_run(handle, final_targets, final_fetches,\n\u001b[0;32m--> 982\u001b[0;31m                              feed_dict_string, options, run_metadata)\n\u001b[0m\u001b[1;32m    983\u001b[0m     \u001b[0;32melse\u001b[0m\u001b[0;34m:\u001b[0m\u001b[0;34m\u001b[0m\u001b[0m\n\u001b[1;32m    984\u001b[0m       \u001b[0mresults\u001b[0m \u001b[0;34m=\u001b[0m \u001b[0;34m[\u001b[0m\u001b[0;34m]\u001b[0m\u001b[0;34m\u001b[0m\u001b[0m\n",
      "\u001b[0;32m/anaconda3/lib/python3.6/site-packages/tensorflow/python/client/session.py\u001b[0m in \u001b[0;36m_do_run\u001b[0;34m(self, handle, target_list, fetch_list, feed_dict, options, run_metadata)\u001b[0m\n\u001b[1;32m   1030\u001b[0m     \u001b[0;32mif\u001b[0m \u001b[0mhandle\u001b[0m \u001b[0;32mis\u001b[0m \u001b[0;32mNone\u001b[0m\u001b[0;34m:\u001b[0m\u001b[0;34m\u001b[0m\u001b[0m\n\u001b[1;32m   1031\u001b[0m       return self._do_call(_run_fn, self._session, feed_dict, fetch_list,\n\u001b[0;32m-> 1032\u001b[0;31m                            target_list, options, run_metadata)\n\u001b[0m\u001b[1;32m   1033\u001b[0m     \u001b[0;32melse\u001b[0m\u001b[0;34m:\u001b[0m\u001b[0;34m\u001b[0m\u001b[0m\n\u001b[1;32m   1034\u001b[0m       return self._do_call(_prun_fn, self._session, handle, feed_dict,\n",
      "\u001b[0;32m/anaconda3/lib/python3.6/site-packages/tensorflow/python/client/session.py\u001b[0m in \u001b[0;36m_do_call\u001b[0;34m(self, fn, *args)\u001b[0m\n\u001b[1;32m   1037\u001b[0m   \u001b[0;32mdef\u001b[0m \u001b[0m_do_call\u001b[0m\u001b[0;34m(\u001b[0m\u001b[0mself\u001b[0m\u001b[0;34m,\u001b[0m \u001b[0mfn\u001b[0m\u001b[0;34m,\u001b[0m \u001b[0;34m*\u001b[0m\u001b[0margs\u001b[0m\u001b[0;34m)\u001b[0m\u001b[0;34m:\u001b[0m\u001b[0;34m\u001b[0m\u001b[0m\n\u001b[1;32m   1038\u001b[0m     \u001b[0;32mtry\u001b[0m\u001b[0;34m:\u001b[0m\u001b[0;34m\u001b[0m\u001b[0m\n\u001b[0;32m-> 1039\u001b[0;31m       \u001b[0;32mreturn\u001b[0m \u001b[0mfn\u001b[0m\u001b[0;34m(\u001b[0m\u001b[0;34m*\u001b[0m\u001b[0margs\u001b[0m\u001b[0;34m)\u001b[0m\u001b[0;34m\u001b[0m\u001b[0m\n\u001b[0m\u001b[1;32m   1040\u001b[0m     \u001b[0;32mexcept\u001b[0m \u001b[0merrors\u001b[0m\u001b[0;34m.\u001b[0m\u001b[0mOpError\u001b[0m \u001b[0;32mas\u001b[0m \u001b[0me\u001b[0m\u001b[0;34m:\u001b[0m\u001b[0;34m\u001b[0m\u001b[0m\n\u001b[1;32m   1041\u001b[0m       \u001b[0mmessage\u001b[0m \u001b[0;34m=\u001b[0m \u001b[0mcompat\u001b[0m\u001b[0;34m.\u001b[0m\u001b[0mas_text\u001b[0m\u001b[0;34m(\u001b[0m\u001b[0me\u001b[0m\u001b[0;34m.\u001b[0m\u001b[0mmessage\u001b[0m\u001b[0;34m)\u001b[0m\u001b[0;34m\u001b[0m\u001b[0m\n",
      "\u001b[0;32m/anaconda3/lib/python3.6/site-packages/tensorflow/python/client/session.py\u001b[0m in \u001b[0;36m_run_fn\u001b[0;34m(session, feed_dict, fetch_list, target_list, options, run_metadata)\u001b[0m\n\u001b[1;32m   1019\u001b[0m         return tf_session.TF_Run(session, options,\n\u001b[1;32m   1020\u001b[0m                                  \u001b[0mfeed_dict\u001b[0m\u001b[0;34m,\u001b[0m \u001b[0mfetch_list\u001b[0m\u001b[0;34m,\u001b[0m \u001b[0mtarget_list\u001b[0m\u001b[0;34m,\u001b[0m\u001b[0;34m\u001b[0m\u001b[0m\n\u001b[0;32m-> 1021\u001b[0;31m                                  status, run_metadata)\n\u001b[0m\u001b[1;32m   1022\u001b[0m \u001b[0;34m\u001b[0m\u001b[0m\n\u001b[1;32m   1023\u001b[0m     \u001b[0;32mdef\u001b[0m \u001b[0m_prun_fn\u001b[0m\u001b[0;34m(\u001b[0m\u001b[0msession\u001b[0m\u001b[0;34m,\u001b[0m \u001b[0mhandle\u001b[0m\u001b[0;34m,\u001b[0m \u001b[0mfeed_dict\u001b[0m\u001b[0;34m,\u001b[0m \u001b[0mfetch_list\u001b[0m\u001b[0;34m)\u001b[0m\u001b[0;34m:\u001b[0m\u001b[0;34m\u001b[0m\u001b[0m\n",
      "\u001b[0;31mKeyboardInterrupt\u001b[0m: "
     ]
    }
   ],
   "source": [
    "sess = tf.Session()\n",
    "sess.run(tf.global_variables_initializer())\n",
    "\n",
    "if not os.path.exists('out_improvedGAN_dgscan/'):\n",
    "    os.makedirs('out_improvedGAN_dgscan/')\n",
    "\n",
    "i = 0\n",
    "iterations = np.array([])\n",
    "Dlist_loss = np.array([])\n",
    "Glist_loss = np.array([])\n",
    "\n",
    "# MNIST resize and normalization\n",
    "train_set = tf.image.resize_images(mnist.train.images, [64, 64]).eval(session=sess)\n",
    "train_set = (train_set - 0.5) / 0.5  # normalization; range: -1 ~ 1\n",
    "       \n",
    "iterations = np.array([])\n",
    "Dlist_loss = np.array([])\n",
    "Glist_loss = np.array([])\n",
    "\n",
    "for it in range(10000):\n",
    "    for _ in range(5):\n",
    "        \n",
    "        X_mb = train_set[it*mb_size:(it+1)*mb_size]\n",
    "\n",
    "        _, D_loss_curr = sess.run([D_solver, D_loss],\n",
    "            feed_dict={X: X_mb, z: sample_z(mb_size, z_dim)})\n",
    "    _, G_loss_curr = sess.run([G_solver, G_loss],feed_dict={z: sample_z(mb_size, z_dim)})\n",
    "\n",
    "    if it % 100 == 0:\n",
    "        iterations = np.append(iterations, it)\n",
    "        Dlist_loss = np.append(Dlist_loss, D_loss_curr)\n",
    "        Glist_loss = np.append(Glist_loss, G_loss_curr)\n",
    "        \n",
    "        print('Iter: {}; D loss: {:.4}; G_loss: {:.4}'\n",
    "              .format(it, D_loss_curr, G_loss_curr))\n",
    "        samples = sess.run(G_sample, feed_dict={z: sample_z(16, z_dim)})\n",
    "\n",
    "        fig = plot(samples)\n",
    "        plt.savefig('out_improvedGAN_dgscan/{}.png'\n",
    "                    .format(str(i).zfill(3)), bbox_inches='tight')\n",
    "        i += 1\n",
    "        plt.close(fig)\n"
   ]
  },
  {
   "cell_type": "code",
   "execution_count": 19,
   "metadata": {},
   "outputs": [
    {
     "data": {
      "image/png": "[encoded data removed]",
      "text/plain": [
       "<matplotlib.figure.Figure at 0x1a1e68a390>"
      ]
     },
     "metadata": {},
     "output_type": "display_data"
    }
   ],
   "source": [
    "# summarize history for accuracy\n",
    "plt.figure(figsize=(9, 6))\n",
    "plt.plot(iterations, Dlist_loss)\n",
    "plt.plot(iterations, Glist_loss)\n",
    "plt.title('Training Curves')\n",
    "plt.ylabel('loss')\n",
    "plt.xlabel('epoch')\n",
    "plt.legend(['discriminator', 'generator'], loc='upper right')\n",
    "plt.show()"
   ]
  },
  {
   "cell_type": "code",
   "execution_count": null,
   "metadata": {
    "collapsed": true
   },
   "outputs": [],
   "source": []
  }
 ],
 "metadata": {
  "kernelspec": {
   "display_name": "Python 3",
   "language": "python",
   "name": "python3"
  },
  "language_info": {
   "codemirror_mode": {
    "name": "ipython",
    "version": 3
   },
   "file_extension": ".py",
   "mimetype": "text/x-python",
   "name": "python",
   "nbconvert_exporter": "python",
   "pygments_lexer": "ipython3",
   "version": "3.6.3"
  }
 },
 "nbformat": 4,
 "nbformat_minor": 2
}
